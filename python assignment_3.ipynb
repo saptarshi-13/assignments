{
 "cells": [
  {
   "cell_type": "markdown",
   "id": "334d264b",
   "metadata": {},
   "source": [
    "# Python Program to implement your own myreduce() function which works exactly like Python's built-in function reduce()."
   ]
  },
  {
   "cell_type": "code",
   "execution_count": 3,
   "id": "0de2ac7d",
   "metadata": {},
   "outputs": [
    {
     "name": "stdout",
     "output_type": "stream",
     "text": [
      "681500\n"
     ]
    }
   ],
   "source": [
    "def myreduce(product,list):\n",
    "    return a\n",
    "def product(a,b):\n",
    "    return a*b\n",
    "list=[25,47,58,10]\n",
    "a=list[0]\n",
    "for i in range(1,len(list)):\n",
    "    b=list[i]\n",
    "    a=product(a,b)\n",
    "print(myreduce(product,list))\n",
    "                             "
   ]
  },
  {
   "cell_type": "code",
   "execution_count": null,
   "id": "1576ea9a",
   "metadata": {},
   "outputs": [],
   "source": []
  },
  {
   "cell_type": "markdown",
   "id": "00ebb208",
   "metadata": {},
   "source": [
    "# Python program to implement your own myfilter() function which works exactly like Python's built-in function filter()."
   ]
  },
  {
   "cell_type": "code",
   "execution_count": 17,
   "id": "0afd5880",
   "metadata": {},
   "outputs": [],
   "source": [
    "def myfilter(is_odd,list_1):\n",
    "    return is_odd(a)\n",
    "list_1=[12,123,5,87,88,40]\n",
    "list_2=[]\n",
    "def is_odd(a):\n",
    "    for i in list_1:\n",
    "        if i%2!=0:\n",
    "            list_2.append(i)\n",
    "    print(list_2)"
   ]
  },
  {
   "cell_type": "code",
   "execution_count": 18,
   "id": "f9a965c4",
   "metadata": {
    "scrolled": true
   },
   "outputs": [
    {
     "name": "stdout",
     "output_type": "stream",
     "text": [
      "[123, 5, 87]\n"
     ]
    }
   ],
   "source": [
    "myfilter(is_odd,list_1)"
   ]
  },
  {
   "cell_type": "code",
   "execution_count": null,
   "id": "e2d3584d",
   "metadata": {},
   "outputs": [],
   "source": []
  },
  {
   "cell_type": "markdown",
   "id": "0dc75a86",
   "metadata": {},
   "source": [
    "# List comprehensions to produce the following List.\n",
    "['x', 'xx', 'xxx', 'xxxx', 'y', 'yy', 'yyy', 'yyyy', 'z', 'zz', 'zzz', 'zzzz']"
   ]
  },
  {
   "cell_type": "code",
   "execution_count": 27,
   "id": "efb1e2c4",
   "metadata": {},
   "outputs": [
    {
     "name": "stdout",
     "output_type": "stream",
     "text": [
      "['x', 'xx', 'xxx', 'xxxx', 'y', 'yy', 'yyy', 'yyyy', 'z', 'zz', 'zzz', 'zzzz']\n"
     ]
    }
   ],
   "source": [
    "list=['x','y','z']\n",
    "new_list=[i*j for i in list for j in range(1,5)]\n",
    "print( new_list)\n",
    "        "
   ]
  },
  {
   "cell_type": "markdown",
   "id": "892c1972",
   "metadata": {},
   "source": [
    "# List comprehensions to produce the following List.\n",
    "['x', 'y', 'z', 'xx', 'yy', 'zz', 'xxx', 'yyy', 'zzz', 'xxxx', 'yyyy', 'zzzz']"
   ]
  },
  {
   "cell_type": "code",
   "execution_count": 29,
   "id": "47363822",
   "metadata": {},
   "outputs": [
    {
     "name": "stdout",
     "output_type": "stream",
     "text": [
      "['x', 'y', 'z', 'xx', 'yy', 'zz', 'xxx', 'yyy', 'zzz', 'xxxx', 'yyyy', 'zzzz']\n"
     ]
    }
   ],
   "source": [
    "list=['x','y','z']\n",
    "new_list=[i*j for j in range(1,5) for i in list]\n",
    "print( new_list)"
   ]
  },
  {
   "cell_type": "markdown",
   "id": "01ec67f5",
   "metadata": {},
   "source": [
    "# List comprehensions to produce the following List.\n",
    "[[2], [3], [4], [3], [4], [5], [4], [5], [6]]"
   ]
  },
  {
   "cell_type": "code",
   "execution_count": 33,
   "id": "7623e37e",
   "metadata": {},
   "outputs": [
    {
     "name": "stdout",
     "output_type": "stream",
     "text": [
      "[[2], [3], [4], [3], [4], [5], [4], [5], [6]]\n"
     ]
    }
   ],
   "source": [
    "list=[2,3,4]\n",
    "new_list=[[i+j] for i in list for j in range(0,3)]\n",
    "print(new_list)"
   ]
  },
  {
   "cell_type": "markdown",
   "id": "f2abeb3d",
   "metadata": {},
   "source": [
    "# List comprehensions to produce the following List.\n",
    "[[2, 3, 4, 5], [3, 4, 5, 6],[4, 5, 6, 7], [5, 6, 7, 8]]"
   ]
  },
  {
   "cell_type": "code",
   "execution_count": 34,
   "id": "9db9b42d",
   "metadata": {},
   "outputs": [
    {
     "name": "stdout",
     "output_type": "stream",
     "text": [
      "[[2, 3, 4, 5], [3, 4, 5, 6], [4, 5, 6, 7], [5, 6, 7, 8]]\n"
     ]
    }
   ],
   "source": [
    "list=[2,3,4,5]\n",
    "new_list=[[i+j for i in list] for j in range(0,4)]\n",
    "print(new_list)"
   ]
  },
  {
   "cell_type": "markdown",
   "id": "3b00bf0a",
   "metadata": {},
   "source": [
    "# List comprehensions to produce the following List.\n",
    "[(1, 1), (2, 1), (3, 1), (1, 2), (2, 2), (3, 2), (1, 3), (2, 3), (3, 3)]"
   ]
  },
  {
   "cell_type": "code",
   "execution_count": 35,
   "id": "27f09c97",
   "metadata": {},
   "outputs": [
    {
     "name": "stdout",
     "output_type": "stream",
     "text": [
      "[(1, 1), (2, 1), (3, 1), (1, 2), (2, 2), (3, 2), (1, 3), (2, 3), (3, 3)]\n"
     ]
    }
   ],
   "source": [
    "list=[1,2,3]\n",
    "new_list=[(j,i) for i in list for j in range(1,4)]\n",
    "print(new_list)"
   ]
  }
 ],
 "metadata": {
  "kernelspec": {
   "display_name": "Python 3",
   "language": "python",
   "name": "python3"
  },
  "language_info": {
   "codemirror_mode": {
    "name": "ipython",
    "version": 3
   },
   "file_extension": ".py",
   "mimetype": "text/x-python",
   "name": "python",
   "nbconvert_exporter": "python",
   "pygments_lexer": "ipython3",
   "version": "3.8.8"
  }
 },
 "nbformat": 4,
 "nbformat_minor": 5
}
