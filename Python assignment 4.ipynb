{
 "cells": [
  {
   "cell_type": "markdown",
   "id": "1295f79e",
   "metadata": {},
   "source": [
    "# A Python Program(with class concepts) to find the area of the triangle using the below formula. area = (s*(s-a)*(s-b)*(s-c)) ** 0.5\n"
   ]
  },
  {
   "cell_type": "code",
   "execution_count": 5,
   "id": "2b2c3042",
   "metadata": {},
   "outputs": [
    {
     "name": "stdout",
     "output_type": "stream",
     "text": [
      " give length of one side   10\n",
      "give length of another side  12\n",
      "give length of remaining side  14\n",
      "Area of triangle : 58.787753826796276\n"
     ]
    }
   ],
   "source": [
    "class sides:\n",
    "    def __init__(self,a, b, c):\n",
    "        self.a = a\n",
    "        self.b = b\n",
    "        self.c = c\n",
    "class A(sides):\n",
    "    def area(self):\n",
    "        s = (self.a + self.b + self.c)/2\n",
    "        return (s*(s-self.a)*(s-self.b)*(s-self.c)) ** 0.5\n",
    "a=int(input(\" give length of one side   \"))\n",
    "b=int(input(\"give length of another side  \"))\n",
    "c=int(input(\"give length of remaining side  \"))\n",
    "obj = A(a,b,c)\n",
    "print(\"Area of triangle : {}\".format(obj.area()))"
   ]
  },
  {
   "cell_type": "markdown",
   "id": "9ea41631",
   "metadata": {},
   "source": [
    "# a function filter_long_words() that takes a list of words and an integer n and returns the list of words that are longer than n."
   ]
  },
  {
   "cell_type": "code",
   "execution_count": 11,
   "id": "75c749fc",
   "metadata": {},
   "outputs": [
    {
     "name": "stdout",
     "output_type": "stream",
     "text": [
      "Enter words, separated by spaces: my name is saptarshi\n",
      "Minimum length of words to keep: 3\n",
      "Words longer than 3 are name, saptarshi.\n"
     ]
    }
   ],
   "source": [
    "def filter_long_words(wordlist, length):\n",
    "    return (word for word in wordlist if len(word) >= length)\n",
    "\n",
    "def main():\n",
    "    words = input(\"Enter words, separated by spaces: \").split()\n",
    "    length = int(input(\"Minimum length of words to keep: \"))\n",
    "    print(\"Words longer than {} are {}.\".format(length,\n",
    "          ', '.join(longwords(words, length))))\n",
    "\n",
    "main()"
   ]
  },
  {
   "cell_type": "markdown",
   "id": "450abb6f",
   "metadata": {},
   "source": [
    "# A Python program using function concept that maps list of words into a list of integers representing the lengths of the corresponding words. "
   ]
  },
  {
   "cell_type": "code",
   "execution_count": 1,
   "id": "334098fb",
   "metadata": {},
   "outputs": [
    {
     "name": "stdout",
     "output_type": "stream",
     "text": [
      "List of Words seperated by space: i am from west bengal\n",
      "List of wordlength:[1, 2, 4, 4, 6]\n"
     ]
    }
   ],
   "source": [
    "listOfWords = input('List of Words seperated by space: ').split()\n",
    "listOfInts = []\n",
    "\n",
    "for i in range(len(listOfWords)):\n",
    "   listOfInts.append(len(listOfWords[i]))\n",
    "\n",
    "print(\"List of wordlength:\" + str(listOfInts))"
   ]
  },
  {
   "cell_type": "markdown",
   "id": "1d759b7f",
   "metadata": {},
   "source": [
    "# Write a Python function which takes a character (i.e. a string of length 1) and returns True if it is a vowel, False otherwise."
   ]
  },
  {
   "cell_type": "code",
   "execution_count": 2,
   "id": "18db6fa6",
   "metadata": {},
   "outputs": [
    {
     "name": "stdout",
     "output_type": "stream",
     "text": [
      "Enter the letter :- i\n",
      "True\n"
     ]
    }
   ],
   "source": [
    "def vowel(x):\n",
    "    if x == \"a\"or x ==\"e\" or x==\"i\" or x == \"o\" or x==\"u\":\n",
    "        return \"True\"\n",
    "    else:\n",
    "        return \"False \"\n",
    "a = input (\"Enter the letter :- \")\n",
    "print (vowel(a))\n"
   ]
  }
 ],
 "metadata": {
  "kernelspec": {
   "display_name": "Python 3",
   "language": "python",
   "name": "python3"
  },
  "language_info": {
   "codemirror_mode": {
    "name": "ipython",
    "version": 3
   },
   "file_extension": ".py",
   "mimetype": "text/x-python",
   "name": "python",
   "nbconvert_exporter": "python",
   "pygments_lexer": "ipython3",
   "version": "3.8.8"
  }
 },
 "nbformat": 4,
 "nbformat_minor": 5
}
